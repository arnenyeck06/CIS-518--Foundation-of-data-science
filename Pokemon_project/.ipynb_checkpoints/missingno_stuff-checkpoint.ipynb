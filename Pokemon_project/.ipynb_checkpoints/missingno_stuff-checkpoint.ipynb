{
 "cells": [
  {
   "cell_type": "code",
   "execution_count": 2,
   "id": "53980ea6",
   "metadata": {},
   "outputs": [
    {
     "data": {
      "text/plain": [
       "['/Users/arnenyeck/Desktop/MSU-Kato/CIS 518- Foundation of data science/project_1',\n",
       " '/Users/arnenyeck/Desktop/Repositories/machine_learning/sample_project/env/lib/python38.zip',\n",
       " '/Users/arnenyeck/Desktop/Repositories/machine_learning/sample_project/env/lib/python3.8',\n",
       " '/Users/arnenyeck/Desktop/Repositories/machine_learning/sample_project/env/lib/python3.8/lib-dynload',\n",
       " '',\n",
       " '/Users/arnenyeck/Desktop/Repositories/machine_learning/sample_project/env/lib/python3.8/site-packages',\n",
       " '/Users/arnenyeck/Desktop/Repositories/machine_learning/sample_project/env/lib/python3.8/site-packages/IPython/extensions',\n",
       " '/Users/arnenyeck/.ipython']"
      ]
     },
     "execution_count": 2,
     "metadata": {},
     "output_type": "execute_result"
    }
   ],
   "source": [
    "import sys\n",
    "sys.path"
   ]
  },
  {
   "cell_type": "code",
   "execution_count": 3,
   "id": "a8a83314",
   "metadata": {},
   "outputs": [
    {
     "name": "stdout",
     "output_type": "stream",
     "text": [
      "Collecting seaborn\n",
      "  Downloading seaborn-0.11.2-py3-none-any.whl (292 kB)\n",
      "\u001b[K     |████████████████████████████████| 292 kB 3.4 MB/s eta 0:00:01\n",
      "\u001b[?25hRequirement already satisfied: pandas>=0.23 in /Users/arnenyeck/Desktop/Repositories/machine_learning/sample_project/env/lib/python3.8/site-packages (from seaborn) (1.3.1)\n",
      "Requirement already satisfied: matplotlib>=2.2 in /Users/arnenyeck/Desktop/Repositories/machine_learning/sample_project/env/lib/python3.8/site-packages (from seaborn) (3.4.2)\n",
      "Requirement already satisfied: numpy>=1.15 in /Users/arnenyeck/Desktop/Repositories/machine_learning/sample_project/env/lib/python3.8/site-packages (from seaborn) (1.20.3)\n",
      "Requirement already satisfied: scipy>=1.0 in /Users/arnenyeck/Desktop/Repositories/machine_learning/sample_project/env/lib/python3.8/site-packages (from seaborn) (1.6.2)\n",
      "Requirement already satisfied: pyparsing>=2.2.1 in /Users/arnenyeck/Desktop/Repositories/machine_learning/sample_project/env/lib/python3.8/site-packages (from matplotlib>=2.2->seaborn) (2.4.7)\n",
      "Requirement already satisfied: kiwisolver>=1.0.1 in /Users/arnenyeck/Desktop/Repositories/machine_learning/sample_project/env/lib/python3.8/site-packages (from matplotlib>=2.2->seaborn) (1.3.1)\n",
      "Requirement already satisfied: python-dateutil>=2.7 in /Users/arnenyeck/Desktop/Repositories/machine_learning/sample_project/env/lib/python3.8/site-packages (from matplotlib>=2.2->seaborn) (2.8.2)\n",
      "Requirement already satisfied: pillow>=6.2.0 in /Users/arnenyeck/Desktop/Repositories/machine_learning/sample_project/env/lib/python3.8/site-packages (from matplotlib>=2.2->seaborn) (8.3.1)\n",
      "Requirement already satisfied: cycler>=0.10 in /Users/arnenyeck/Desktop/Repositories/machine_learning/sample_project/env/lib/python3.8/site-packages (from matplotlib>=2.2->seaborn) (0.10.0)\n",
      "Requirement already satisfied: six in /Users/arnenyeck/Desktop/Repositories/machine_learning/sample_project/env/lib/python3.8/site-packages (from cycler>=0.10->matplotlib>=2.2->seaborn) (1.16.0)\n",
      "Requirement already satisfied: pytz>=2017.3 in /Users/arnenyeck/Desktop/Repositories/machine_learning/sample_project/env/lib/python3.8/site-packages (from pandas>=0.23->seaborn) (2021.1)\n",
      "Installing collected packages: seaborn\n",
      "Successfully installed seaborn-0.11.2\n",
      "Note: you may need to restart the kernel to use updated packages.\n"
     ]
    }
   ],
   "source": [
    "%pip install seaborn"
   ]
  },
  {
   "cell_type": "code",
   "execution_count": 1,
   "id": "dad51544",
   "metadata": {},
   "outputs": [],
   "source": [
    "import seaborn as sns"
   ]
  },
  {
   "cell_type": "code",
   "execution_count": 4,
   "id": "7400bff2",
   "metadata": {},
   "outputs": [
    {
     "name": "stdout",
     "output_type": "stream",
     "text": [
      "Collecting missingno\n",
      "  Using cached missingno-0.5.0-py3-none-any.whl (8.8 kB)\n",
      "Requirement already satisfied: seaborn in /Users/arnenyeck/Desktop/Repositories/machine_learning/sample_project/env/lib/python3.8/site-packages (from missingno) (0.11.2)\n",
      "Requirement already satisfied: scipy in /Users/arnenyeck/Desktop/Repositories/machine_learning/sample_project/env/lib/python3.8/site-packages (from missingno) (1.6.2)\n",
      "Requirement already satisfied: matplotlib in /Users/arnenyeck/Desktop/Repositories/machine_learning/sample_project/env/lib/python3.8/site-packages (from missingno) (3.4.2)\n",
      "Requirement already satisfied: numpy in /Users/arnenyeck/Desktop/Repositories/machine_learning/sample_project/env/lib/python3.8/site-packages (from missingno) (1.20.3)\n",
      "Requirement already satisfied: kiwisolver>=1.0.1 in /Users/arnenyeck/Desktop/Repositories/machine_learning/sample_project/env/lib/python3.8/site-packages (from matplotlib->missingno) (1.3.1)\n",
      "Requirement already satisfied: cycler>=0.10 in /Users/arnenyeck/Desktop/Repositories/machine_learning/sample_project/env/lib/python3.8/site-packages (from matplotlib->missingno) (0.10.0)\n",
      "Requirement already satisfied: python-dateutil>=2.7 in /Users/arnenyeck/Desktop/Repositories/machine_learning/sample_project/env/lib/python3.8/site-packages (from matplotlib->missingno) (2.8.2)\n",
      "Requirement already satisfied: pillow>=6.2.0 in /Users/arnenyeck/Desktop/Repositories/machine_learning/sample_project/env/lib/python3.8/site-packages (from matplotlib->missingno) (8.3.1)\n",
      "Requirement already satisfied: pyparsing>=2.2.1 in /Users/arnenyeck/Desktop/Repositories/machine_learning/sample_project/env/lib/python3.8/site-packages (from matplotlib->missingno) (2.4.7)\n",
      "Requirement already satisfied: six in /Users/arnenyeck/Desktop/Repositories/machine_learning/sample_project/env/lib/python3.8/site-packages (from cycler>=0.10->matplotlib->missingno) (1.16.0)\n",
      "Requirement already satisfied: pandas>=0.23 in /Users/arnenyeck/Desktop/Repositories/machine_learning/sample_project/env/lib/python3.8/site-packages (from seaborn->missingno) (1.3.1)\n",
      "Requirement already satisfied: pytz>=2017.3 in /Users/arnenyeck/Desktop/Repositories/machine_learning/sample_project/env/lib/python3.8/site-packages (from pandas>=0.23->seaborn->missingno) (2021.1)\n",
      "Installing collected packages: missingno\n",
      "Successfully installed missingno-0.5.0\n",
      "Note: you may need to restart the kernel to use updated packages.\n"
     ]
    }
   ],
   "source": [
    "%pip install missingno\n"
   ]
  },
  {
   "cell_type": "code",
   "execution_count": 2,
   "id": "d62d8842",
   "metadata": {},
   "outputs": [],
   "source": [
    "import missingno as msno"
   ]
  },
  {
   "cell_type": "code",
   "execution_count": 7,
   "id": "702d3506",
   "metadata": {},
   "outputs": [],
   "source": [
    "!jupyter kernelspec list "
   ]
  },
  {
   "cell_type": "code",
   "execution_count": 2,
   "id": "25829e56",
   "metadata": {},
   "outputs": [
    {
     "name": "stdout",
     "output_type": "stream",
     "text": [
      "/Users/arnenyeck/opt/anaconda3/bin/python\r\n"
     ]
    }
   ],
   "source": [
    "!which -a python"
   ]
  },
  {
   "cell_type": "code",
   "execution_count": 3,
   "id": "0ef5e971",
   "metadata": {},
   "outputs": [
    {
     "name": "stdout",
     "output_type": "stream",
     "text": [
      "Requirement already satisfied: ipykernel in /Users/arnenyeck/opt/anaconda3/lib/python3.8/site-packages (6.9.0)\n",
      "Requirement already satisfied: nest-asyncio in /Users/arnenyeck/opt/anaconda3/lib/python3.8/site-packages (from ipykernel) (1.5.4)\n",
      "Requirement already satisfied: matplotlib-inline<0.2.0,>=0.1.0 in /Users/arnenyeck/opt/anaconda3/lib/python3.8/site-packages (from ipykernel) (0.1.3)\n",
      "Requirement already satisfied: appnope in /Users/arnenyeck/opt/anaconda3/lib/python3.8/site-packages (from ipykernel) (0.1.2)\n",
      "Requirement already satisfied: debugpy<2.0,>=1.0.0 in /Users/arnenyeck/opt/anaconda3/lib/python3.8/site-packages (from ipykernel) (1.5.1)\n",
      "Requirement already satisfied: tornado<7.0,>=4.2 in /Users/arnenyeck/opt/anaconda3/lib/python3.8/site-packages (from ipykernel) (6.1)\n",
      "Requirement already satisfied: jupyter-client<8.0 in /Users/arnenyeck/opt/anaconda3/lib/python3.8/site-packages (from ipykernel) (7.1.2)\n",
      "Requirement already satisfied: traitlets<6.0,>=5.1.0 in /Users/arnenyeck/opt/anaconda3/lib/python3.8/site-packages (from ipykernel) (5.1.1)\n",
      "Requirement already satisfied: ipython>=7.23.1 in /Users/arnenyeck/opt/anaconda3/lib/python3.8/site-packages (from ipykernel) (7.31.1)\n",
      "Requirement already satisfied: pygments in /Users/arnenyeck/opt/anaconda3/lib/python3.8/site-packages (from ipython>=7.23.1->ipykernel) (2.11.2)\n",
      "Requirement already satisfied: backcall in /Users/arnenyeck/opt/anaconda3/lib/python3.8/site-packages (from ipython>=7.23.1->ipykernel) (0.2.0)\n",
      "Requirement already satisfied: prompt-toolkit!=3.0.0,!=3.0.1,<3.1.0,>=2.0.0 in /Users/arnenyeck/opt/anaconda3/lib/python3.8/site-packages (from ipython>=7.23.1->ipykernel) (3.0.27)\n",
      "Requirement already satisfied: decorator in /Users/arnenyeck/opt/anaconda3/lib/python3.8/site-packages (from ipython>=7.23.1->ipykernel) (5.1.1)\n",
      "Requirement already satisfied: jedi>=0.16 in /Users/arnenyeck/opt/anaconda3/lib/python3.8/site-packages (from ipython>=7.23.1->ipykernel) (0.18.1)\n",
      "Requirement already satisfied: setuptools>=18.5 in /Users/arnenyeck/opt/anaconda3/lib/python3.8/site-packages (from ipython>=7.23.1->ipykernel) (60.8.2)\n",
      "Requirement already satisfied: pickleshare in /Users/arnenyeck/opt/anaconda3/lib/python3.8/site-packages (from ipython>=7.23.1->ipykernel) (0.7.5)\n",
      "Requirement already satisfied: pexpect>4.3 in /Users/arnenyeck/opt/anaconda3/lib/python3.8/site-packages (from ipython>=7.23.1->ipykernel) (4.8.0)\n",
      "Requirement already satisfied: pyzmq>=13 in /Users/arnenyeck/opt/anaconda3/lib/python3.8/site-packages (from jupyter-client<8.0->ipykernel) (22.3.0)\n",
      "Requirement already satisfied: python-dateutil>=2.1 in /Users/arnenyeck/opt/anaconda3/lib/python3.8/site-packages (from jupyter-client<8.0->ipykernel) (2.8.2)\n",
      "Requirement already satisfied: jupyter-core>=4.6.0 in /Users/arnenyeck/opt/anaconda3/lib/python3.8/site-packages (from jupyter-client<8.0->ipykernel) (4.9.1)\n",
      "Requirement already satisfied: entrypoints in /Users/arnenyeck/opt/anaconda3/lib/python3.8/site-packages (from jupyter-client<8.0->ipykernel) (0.4)\n",
      "Requirement already satisfied: parso<0.9.0,>=0.8.0 in /Users/arnenyeck/opt/anaconda3/lib/python3.8/site-packages (from jedi>=0.16->ipython>=7.23.1->ipykernel) (0.8.3)\n",
      "Requirement already satisfied: ptyprocess>=0.5 in /Users/arnenyeck/opt/anaconda3/lib/python3.8/site-packages (from pexpect>4.3->ipython>=7.23.1->ipykernel) (0.7.0)\n",
      "Requirement already satisfied: wcwidth in /Users/arnenyeck/opt/anaconda3/lib/python3.8/site-packages (from prompt-toolkit!=3.0.0,!=3.0.1,<3.1.0,>=2.0.0->ipython>=7.23.1->ipykernel) (0.2.5)\n",
      "Requirement already satisfied: six>=1.5 in /Users/arnenyeck/opt/anaconda3/lib/python3.8/site-packages (from python-dateutil>=2.1->jupyter-client<8.0->ipykernel) (1.16.0)\n"
     ]
    }
   ],
   "source": [
    "!/Users/arnenyeck/opt/anaconda3/bin/python -m pip install ipykernel"
   ]
  },
  {
   "cell_type": "code",
   "execution_count": 3,
   "id": "33d92abb",
   "metadata": {},
   "outputs": [
    {
     "ename": "NameError",
     "evalue": "name 'plt' is not defined",
     "output_type": "error",
     "traceback": [
      "\u001b[0;31m---------------------------------------------------------------------------\u001b[0m",
      "\u001b[0;31mNameError\u001b[0m                                 Traceback (most recent call last)",
      "\u001b[0;32m/var/folders/r6/crdt9bjd4192t019xf_xyw480000gn/T/ipykernel_15846/1949960191.py\u001b[0m in \u001b[0;36m<module>\u001b[0;34m\u001b[0m\n\u001b[0;32m----> 1\u001b[0;31m \u001b[0mplt\u001b[0m\u001b[0;34m.\u001b[0m\u001b[0mfigure\u001b[0m\u001b[0;34m(\u001b[0m\u001b[0mfigsize\u001b[0m\u001b[0;34m=\u001b[0m\u001b[0;34m(\u001b[0m\u001b[0;36m13\u001b[0m\u001b[0;34m,\u001b[0m\u001b[0;36m6\u001b[0m\u001b[0;34m)\u001b[0m\u001b[0;34m)\u001b[0m\u001b[0;34m\u001b[0m\u001b[0;34m\u001b[0m\u001b[0m\n\u001b[0m\u001b[1;32m      2\u001b[0m \u001b[0msns\u001b[0m\u001b[0;34m.\u001b[0m\u001b[0mcountplot\u001b[0m\u001b[0;34m(\u001b[0m\u001b[0mdf1\u001b[0m\u001b[0;34m[\u001b[0m\u001b[0;34m'Type.1'\u001b[0m\u001b[0;34m]\u001b[0m\u001b[0;34m)\u001b[0m\u001b[0;34m\u001b[0m\u001b[0;34m\u001b[0m\u001b[0m\n",
      "\u001b[0;31mNameError\u001b[0m: name 'plt' is not defined"
     ]
    }
   ],
   "source": [
    "plt.figure(figsize=(13,6))\n",
    "sns.countplot(df1['Type.1'])"
   ]
  },
  {
   "cell_type": "code",
   "execution_count": 4,
   "id": "d6b25127",
   "metadata": {},
   "outputs": [
    {
     "ename": "NameError",
     "evalue": "name 'plt' is not defined",
     "output_type": "error",
     "traceback": [
      "\u001b[0;31m---------------------------------------------------------------------------\u001b[0m",
      "\u001b[0;31mNameError\u001b[0m                                 Traceback (most recent call last)",
      "\u001b[0;32m/var/folders/r6/crdt9bjd4192t019xf_xyw480000gn/T/ipykernel_15846/2845369137.py\u001b[0m in \u001b[0;36m<module>\u001b[0;34m\u001b[0m\n\u001b[0;32m----> 1\u001b[0;31m \u001b[0mplt\u001b[0m\u001b[0;34m.\u001b[0m\u001b[0mfigure\u001b[0m\u001b[0;34m(\u001b[0m\u001b[0mfigsize\u001b[0m\u001b[0;34m=\u001b[0m\u001b[0;34m(\u001b[0m\u001b[0;36m13\u001b[0m\u001b[0;34m,\u001b[0m\u001b[0;36m6\u001b[0m\u001b[0;34m)\u001b[0m\u001b[0;34m)\u001b[0m\u001b[0;34m\u001b[0m\u001b[0;34m\u001b[0m\u001b[0m\n\u001b[0m\u001b[1;32m      2\u001b[0m \u001b[0msns\u001b[0m\u001b[0;34m.\u001b[0m\u001b[0mcountplot\u001b[0m\u001b[0;34m(\u001b[0m\u001b[0mdf1\u001b[0m\u001b[0;34m[\u001b[0m\u001b[0;34m'Type.2'\u001b[0m\u001b[0;34m]\u001b[0m\u001b[0;34m)\u001b[0m\u001b[0;34m\u001b[0m\u001b[0;34m\u001b[0m\u001b[0m\n",
      "\u001b[0;31mNameError\u001b[0m: name 'plt' is not defined"
     ]
    }
   ],
   "source": [
    "plt.figure(figsize=(13,6))\n",
    "sns.countplot(df1['Type.2'])"
   ]
  },
  {
   "cell_type": "code",
   "execution_count": 5,
   "id": "fdd90d2b",
   "metadata": {},
   "outputs": [
    {
     "ename": "NameError",
     "evalue": "name 'df' is not defined",
     "output_type": "error",
     "traceback": [
      "\u001b[0;31m---------------------------------------------------------------------------\u001b[0m",
      "\u001b[0;31mNameError\u001b[0m                                 Traceback (most recent call last)",
      "\u001b[0;32m/var/folders/r6/crdt9bjd4192t019xf_xyw480000gn/T/ipykernel_15846/3795803412.py\u001b[0m in \u001b[0;36m<module>\u001b[0;34m\u001b[0m\n\u001b[0;32m----> 1\u001b[0;31m \u001b[0mdf_summary\u001b[0m \u001b[0;34m=\u001b[0m \u001b[0mdf\u001b[0m\u001b[0;34m.\u001b[0m\u001b[0mdescribe\u001b[0m\u001b[0;34m(\u001b[0m\u001b[0;34m)\u001b[0m \u001b[0;31m#summary of the pokemon dataframe\u001b[0m\u001b[0;34m\u001b[0m\u001b[0;34m\u001b[0m\u001b[0m\n\u001b[0m\u001b[1;32m      2\u001b[0m \u001b[0mdf_summary\u001b[0m\u001b[0;34m\u001b[0m\u001b[0;34m\u001b[0m\u001b[0m\n",
      "\u001b[0;31mNameError\u001b[0m: name 'df' is not defined"
     ]
    }
   ],
   "source": [
    "df_summary = df.describe() #summary of the pokemon dataframe\n",
    "df_summary"
   ]
  },
  {
   "cell_type": "code",
   "execution_count": 6,
   "id": "eff85143",
   "metadata": {},
   "outputs": [
    {
     "ename": "NameError",
     "evalue": "name 'df1' is not defined",
     "output_type": "error",
     "traceback": [
      "\u001b[0;31m---------------------------------------------------------------------------\u001b[0m",
      "\u001b[0;31mNameError\u001b[0m                                 Traceback (most recent call last)",
      "\u001b[0;32m/var/folders/r6/crdt9bjd4192t019xf_xyw480000gn/T/ipykernel_15846/2311671808.py\u001b[0m in \u001b[0;36m<module>\u001b[0;34m\u001b[0m\n\u001b[0;32m----> 1\u001b[0;31m \u001b[0mpokemon_stats\u001b[0m \u001b[0;34m=\u001b[0m \u001b[0mdf1\u001b[0m\u001b[0;34m.\u001b[0m\u001b[0mdrop\u001b[0m\u001b[0;34m(\u001b[0m\u001b[0;34m[\u001b[0m\u001b[0;34m'Type.1'\u001b[0m\u001b[0;34m,\u001b[0m \u001b[0;34m'Type.2'\u001b[0m\u001b[0;34m,\u001b[0m \u001b[0;34m'X.'\u001b[0m\u001b[0;34m,\u001b[0m \u001b[0;34m'Legendary'\u001b[0m\u001b[0;34m,\u001b[0m \u001b[0;34m'Name'\u001b[0m\u001b[0;34m,\u001b[0m \u001b[0;34m'Total'\u001b[0m\u001b[0;34m,\u001b[0m \u001b[0;34m'Generation'\u001b[0m\u001b[0;34m]\u001b[0m\u001b[0;34m,\u001b[0m \u001b[0maxis\u001b[0m\u001b[0;34m=\u001b[0m\u001b[0;36m1\u001b[0m\u001b[0;34m)\u001b[0m\u001b[0;34m\u001b[0m\u001b[0;34m\u001b[0m\u001b[0m\n\u001b[0m",
      "\u001b[0;31mNameError\u001b[0m: name 'df1' is not defined"
     ]
    }
   ],
   "source": [
    "pokemon_stats = df1.drop(['Type.1', 'Type.2', 'X.', 'Legendary', 'Name', 'Total', 'Generation'], axis=1)"
   ]
  },
  {
   "cell_type": "code",
   "execution_count": 7,
   "id": "9ba7665a",
   "metadata": {},
   "outputs": [
    {
     "ename": "SyntaxError",
     "evalue": "unexpected EOF while parsing (2334888617.py, line 2)",
     "output_type": "error",
     "traceback": [
      "\u001b[0;36m  File \u001b[0;32m\"/var/folders/r6/crdt9bjd4192t019xf_xyw480000gn/T/ipykernel_15846/2334888617.py\"\u001b[0;36m, line \u001b[0;32m2\u001b[0m\n\u001b[0;31m    sns.boxplot(data=pokemon_stats\u001b[0m\n\u001b[0m                                  ^\u001b[0m\n\u001b[0;31mSyntaxError\u001b[0m\u001b[0;31m:\u001b[0m unexpected EOF while parsing\n"
     ]
    }
   ],
   "source": [
    "plt.figure(figsize=(10,5))\n",
    "sns.boxplot(data=pokemon_stats"
   ]
  },
  {
   "cell_type": "code",
   "execution_count": 9,
   "id": "67aebb96",
   "metadata": {},
   "outputs": [
    {
     "ename": "NameError",
     "evalue": "name 'df1' is not defined",
     "output_type": "error",
     "traceback": [
      "\u001b[0;31m---------------------------------------------------------------------------\u001b[0m",
      "\u001b[0;31mNameError\u001b[0m                                 Traceback (most recent call last)",
      "\u001b[0;32m/var/folders/r6/crdt9bjd4192t019xf_xyw480000gn/T/ipykernel_15846/1395634860.py\u001b[0m in \u001b[0;36m<module>\u001b[0;34m\u001b[0m\n\u001b[0;32m----> 1\u001b[0;31m \u001b[0mSpeed\u001b[0m \u001b[0;34m=\u001b[0m \u001b[0mdf1\u001b[0m\u001b[0;34m.\u001b[0m\u001b[0msort_values\u001b[0m\u001b[0;34m(\u001b[0m\u001b[0mby\u001b[0m\u001b[0;34m=\u001b[0m\u001b[0;34m'Speed'\u001b[0m\u001b[0;34m,\u001b[0m \u001b[0mascending\u001b[0m\u001b[0;34m=\u001b[0m\u001b[0;32mFalse\u001b[0m\u001b[0;34m)\u001b[0m \u001b[0;31m#sorting the rows in descending order\u001b[0m\u001b[0;34m\u001b[0m\u001b[0;34m\u001b[0m\u001b[0m\n\u001b[0m\u001b[1;32m      2\u001b[0m \u001b[0mSpeed\u001b[0m\u001b[0;34m.\u001b[0m\u001b[0mdrop_duplicates\u001b[0m\u001b[0;34m(\u001b[0m\u001b[0msubset\u001b[0m\u001b[0;34m=\u001b[0m\u001b[0;34m[\u001b[0m\u001b[0;34m'Type.1'\u001b[0m\u001b[0;34m]\u001b[0m\u001b[0;34m,\u001b[0m\u001b[0mkeep\u001b[0m\u001b[0;34m=\u001b[0m\u001b[0;34m'first'\u001b[0m\u001b[0;34m)\u001b[0m\u001b[0;34m\u001b[0m\u001b[0;34m\u001b[0m\u001b[0m\n",
      "\u001b[0;31mNameError\u001b[0m: name 'df1' is not defined"
     ]
    }
   ],
   "source": [
    "Speed = df1.sort_values(by='Speed', ascending=False) #sorting the rows in descending order\n",
    "Speed.drop_duplicates(subset=['Type.1'],keep='first')"
   ]
  },
  {
   "cell_type": "code",
   "execution_count": null,
   "id": "c44dd02d",
   "metadata": {},
   "outputs": [],
   "source": []
  }
 ],
 "metadata": {
  "kernelspec": {
   "display_name": "Python 3",
   "language": "python",
   "name": "python3"
  },
  "language_info": {
   "codemirror_mode": {
    "name": "ipython",
    "version": 3
   },
   "file_extension": ".py",
   "mimetype": "text/x-python",
   "name": "python",
   "nbconvert_exporter": "python",
   "pygments_lexer": "ipython3",
   "version": "3.8.11"
  }
 },
 "nbformat": 4,
 "nbformat_minor": 5
}
